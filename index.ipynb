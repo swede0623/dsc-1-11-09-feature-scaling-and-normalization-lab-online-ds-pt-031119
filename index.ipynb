{
 "cells": [
  {
   "cell_type": "markdown",
   "metadata": {},
   "source": [
    "## Feature Scaling and Normalization - Lab"
   ]
  },
  {
   "cell_type": "markdown",
   "metadata": {},
   "source": [
    "## Introduction\n",
    "In this lab, you'll practice your feature scaling and normalization skills!"
   ]
  },
  {
   "cell_type": "markdown",
   "metadata": {},
   "source": [
    "## Objectives\n",
    "You will be able to:\n",
    "* Implement min-max scaling, mean-normalization, log normalization and unit vector normalization in python\n",
    "* Identify appropriate normalization and scaling techniques for given dataset"
   ]
  },
  {
   "cell_type": "markdown",
   "metadata": {},
   "source": [
    "## Back to our Boston Housing data"
   ]
  },
  {
   "cell_type": "markdown",
   "metadata": {},
   "source": [
    "Let's import our Boston Housing data. Remember we categorized two variables and deleted the \"NOX\" (nitride oxide concentration) variable because it was highly correlated with two other features."
   ]
  },
  {
   "cell_type": "code",
   "execution_count": 1,
   "metadata": {},
   "outputs": [],
   "source": [
    "import pandas as pd\n",
    "from sklearn.datasets import load_boston\n",
    "boston = load_boston()\n",
    "\n",
    "boston_features = pd.DataFrame(boston.data, columns = boston.feature_names)\n",
    "\n",
    "# first, create bins for based on the values observed. 5 values will result in 4 bins\n",
    "bins = [0, 3, 4 , 5, 24]\n",
    "bins_rad = pd.cut(boston_features['RAD'], bins)\n",
    "bins_rad = bins_rad.cat.as_unordered()\n",
    "\n",
    "# first, create bins for based on the values observed. 5 values will result in 4 bins\n",
    "bins = [0, 250, 300, 360, 460, 712]\n",
    "bins_tax = pd.cut(boston_features['TAX'], bins)\n",
    "bins_tax = bins_tax.cat.as_unordered()\n",
    "\n",
    "tax_dummy = pd.get_dummies(bins_tax, prefix=\"TAX\")\n",
    "rad_dummy = pd.get_dummies(bins_rad, prefix=\"RAD\")\n",
    "boston_features = boston_features.drop([\"RAD\",\"TAX\"], axis=1)\n",
    "boston_features = pd.concat([boston_features, rad_dummy, tax_dummy], axis=1)\n",
    "boston_features = boston_features.drop(\"NOX\",axis=1)"
   ]
  },
  {
   "cell_type": "markdown",
   "metadata": {},
   "source": [
    "## Look at the histograms for the continuous variables"
   ]
  },
  {
   "cell_type": "code",
   "execution_count": 2,
   "metadata": {},
   "outputs": [
    {
     "data": {
      "text/html": [
       "<div>\n",
       "<style scoped>\n",
       "    .dataframe tbody tr th:only-of-type {\n",
       "        vertical-align: middle;\n",
       "    }\n",
       "\n",
       "    .dataframe tbody tr th {\n",
       "        vertical-align: top;\n",
       "    }\n",
       "\n",
       "    .dataframe thead th {\n",
       "        text-align: right;\n",
       "    }\n",
       "</style>\n",
       "<table border=\"1\" class=\"dataframe\">\n",
       "  <thead>\n",
       "    <tr style=\"text-align: right;\">\n",
       "      <th></th>\n",
       "      <th>CRIM</th>\n",
       "      <th>ZN</th>\n",
       "      <th>INDUS</th>\n",
       "      <th>CHAS</th>\n",
       "      <th>RM</th>\n",
       "      <th>AGE</th>\n",
       "      <th>DIS</th>\n",
       "      <th>PTRATIO</th>\n",
       "      <th>B</th>\n",
       "      <th>LSTAT</th>\n",
       "      <th>RAD_(0, 3]</th>\n",
       "      <th>RAD_(3, 4]</th>\n",
       "      <th>RAD_(4, 5]</th>\n",
       "      <th>RAD_(5, 24]</th>\n",
       "      <th>TAX_(0, 250]</th>\n",
       "      <th>TAX_(250, 300]</th>\n",
       "      <th>TAX_(300, 360]</th>\n",
       "      <th>TAX_(360, 460]</th>\n",
       "      <th>TAX_(460, 712]</th>\n",
       "    </tr>\n",
       "  </thead>\n",
       "  <tbody>\n",
       "    <tr>\n",
       "      <th>0</th>\n",
       "      <td>0.00632</td>\n",
       "      <td>18.0</td>\n",
       "      <td>2.31</td>\n",
       "      <td>0.0</td>\n",
       "      <td>6.575</td>\n",
       "      <td>65.2</td>\n",
       "      <td>4.0900</td>\n",
       "      <td>15.3</td>\n",
       "      <td>396.90</td>\n",
       "      <td>4.98</td>\n",
       "      <td>1</td>\n",
       "      <td>0</td>\n",
       "      <td>0</td>\n",
       "      <td>0</td>\n",
       "      <td>0</td>\n",
       "      <td>1</td>\n",
       "      <td>0</td>\n",
       "      <td>0</td>\n",
       "      <td>0</td>\n",
       "    </tr>\n",
       "    <tr>\n",
       "      <th>1</th>\n",
       "      <td>0.02731</td>\n",
       "      <td>0.0</td>\n",
       "      <td>7.07</td>\n",
       "      <td>0.0</td>\n",
       "      <td>6.421</td>\n",
       "      <td>78.9</td>\n",
       "      <td>4.9671</td>\n",
       "      <td>17.8</td>\n",
       "      <td>396.90</td>\n",
       "      <td>9.14</td>\n",
       "      <td>1</td>\n",
       "      <td>0</td>\n",
       "      <td>0</td>\n",
       "      <td>0</td>\n",
       "      <td>1</td>\n",
       "      <td>0</td>\n",
       "      <td>0</td>\n",
       "      <td>0</td>\n",
       "      <td>0</td>\n",
       "    </tr>\n",
       "    <tr>\n",
       "      <th>2</th>\n",
       "      <td>0.02729</td>\n",
       "      <td>0.0</td>\n",
       "      <td>7.07</td>\n",
       "      <td>0.0</td>\n",
       "      <td>7.185</td>\n",
       "      <td>61.1</td>\n",
       "      <td>4.9671</td>\n",
       "      <td>17.8</td>\n",
       "      <td>392.83</td>\n",
       "      <td>4.03</td>\n",
       "      <td>1</td>\n",
       "      <td>0</td>\n",
       "      <td>0</td>\n",
       "      <td>0</td>\n",
       "      <td>1</td>\n",
       "      <td>0</td>\n",
       "      <td>0</td>\n",
       "      <td>0</td>\n",
       "      <td>0</td>\n",
       "    </tr>\n",
       "    <tr>\n",
       "      <th>3</th>\n",
       "      <td>0.03237</td>\n",
       "      <td>0.0</td>\n",
       "      <td>2.18</td>\n",
       "      <td>0.0</td>\n",
       "      <td>6.998</td>\n",
       "      <td>45.8</td>\n",
       "      <td>6.0622</td>\n",
       "      <td>18.7</td>\n",
       "      <td>394.63</td>\n",
       "      <td>2.94</td>\n",
       "      <td>1</td>\n",
       "      <td>0</td>\n",
       "      <td>0</td>\n",
       "      <td>0</td>\n",
       "      <td>1</td>\n",
       "      <td>0</td>\n",
       "      <td>0</td>\n",
       "      <td>0</td>\n",
       "      <td>0</td>\n",
       "    </tr>\n",
       "    <tr>\n",
       "      <th>4</th>\n",
       "      <td>0.06905</td>\n",
       "      <td>0.0</td>\n",
       "      <td>2.18</td>\n",
       "      <td>0.0</td>\n",
       "      <td>7.147</td>\n",
       "      <td>54.2</td>\n",
       "      <td>6.0622</td>\n",
       "      <td>18.7</td>\n",
       "      <td>396.90</td>\n",
       "      <td>5.33</td>\n",
       "      <td>1</td>\n",
       "      <td>0</td>\n",
       "      <td>0</td>\n",
       "      <td>0</td>\n",
       "      <td>1</td>\n",
       "      <td>0</td>\n",
       "      <td>0</td>\n",
       "      <td>0</td>\n",
       "      <td>0</td>\n",
       "    </tr>\n",
       "  </tbody>\n",
       "</table>\n",
       "</div>"
      ],
      "text/plain": [
       "      CRIM    ZN  INDUS  CHAS     RM   AGE     DIS  PTRATIO       B  LSTAT  \\\n",
       "0  0.00632  18.0   2.31   0.0  6.575  65.2  4.0900     15.3  396.90   4.98   \n",
       "1  0.02731   0.0   7.07   0.0  6.421  78.9  4.9671     17.8  396.90   9.14   \n",
       "2  0.02729   0.0   7.07   0.0  7.185  61.1  4.9671     17.8  392.83   4.03   \n",
       "3  0.03237   0.0   2.18   0.0  6.998  45.8  6.0622     18.7  394.63   2.94   \n",
       "4  0.06905   0.0   2.18   0.0  7.147  54.2  6.0622     18.7  396.90   5.33   \n",
       "\n",
       "   RAD_(0, 3]  RAD_(3, 4]  RAD_(4, 5]  RAD_(5, 24]  TAX_(0, 250]  \\\n",
       "0           1           0           0            0             0   \n",
       "1           1           0           0            0             1   \n",
       "2           1           0           0            0             1   \n",
       "3           1           0           0            0             1   \n",
       "4           1           0           0            0             1   \n",
       "\n",
       "   TAX_(250, 300]  TAX_(300, 360]  TAX_(360, 460]  TAX_(460, 712]  \n",
       "0               1               0               0               0  \n",
       "1               0               0               0               0  \n",
       "2               0               0               0               0  \n",
       "3               0               0               0               0  \n",
       "4               0               0               0               0  "
      ]
     },
     "execution_count": 2,
     "metadata": {},
     "output_type": "execute_result"
    }
   ],
   "source": [
    "boston_features.head()"
   ]
  },
  {
   "cell_type": "code",
   "execution_count": 6,
   "metadata": {},
   "outputs": [
    {
     "data": {
      "image/png": "[encoded data removed]",
      "text/plain": [
       "<Figure size 1008x864 with 9 Axes>"
      ]
     },
     "metadata": {
      "needs_background": "light"
     },
     "output_type": "display_data"
    }
   ],
   "source": [
    "boston_features.hist(['CRIM', 'ZN', 'INDUS', 'RM', 'AGE', 'DIS', 'PTRATIO', 'B', 'LSTAT'], figsize=(14,12));"
   ]
  },
  {
   "cell_type": "markdown",
   "metadata": {},
   "source": [
    "## Perform log transformations for the variables where it makes sense"
   ]
  },
  {
   "cell_type": "markdown",
   "metadata": {},
   "source": [
    "Analyze the results in terms of how they improved the normality performance. What is the problem with the \"ZN\" variable?  "
   ]
  },
  {
   "cell_type": "code",
   "execution_count": 14,
   "metadata": {},
   "outputs": [
    {
     "name": "stderr",
     "output_type": "stream",
     "text": [
      "C:\\Users\\E\\Anaconda3\\envs\\learn-env\\lib\\site-packages\\ipykernel_launcher.py:10: RuntimeWarning: divide by zero encountered in log\n",
      "  # Remove the CWD from sys.path while we load stuff.\n"
     ]
    }
   ],
   "source": [
    "import numpy as np\n",
    "log_data = pd.DataFrame([])\n",
    "log_data['logAge'] = np.log(boston_features['AGE'])\n",
    "log_data['logB'] = np.log(boston_features['B'])\n",
    "log_data['logCrim'] = np.log(boston_features['CRIM'])\n",
    "log_data['logDis'] = np.log(boston_features['DIS'])\n",
    "log_data['logIndus'] = np.log(boston_features['INDUS'])\n",
    "log_data['logLstat'] = np.log(boston_features['LSTAT'])\n",
    "log_data['logPtratio'] = np.log(boston_features['PTRATIO'])\n",
    "log_data['logZn'] = np.log(boston_features['ZN'])\n"
   ]
  },
  {
   "cell_type": "code",
   "execution_count": 10,
   "metadata": {},
   "outputs": [
    {
     "data": {
      "text/plain": [
       "-inf         372\n",
       " 2.995732     21\n",
       " 4.382027     15\n",
       " 3.218876     10\n",
       " 2.525729     10\n",
       " 3.091042     10\n",
       " 3.688879      7\n",
       " 3.401197      6\n",
       " 3.806662      6\n",
       " 4.499810      5\n",
       " 3.044522      4\n",
       " 4.553877      4\n",
       " 4.094345      4\n",
       " 3.496508      4\n",
       " 4.007333      3\n",
       " 3.555348      3\n",
       " 3.526361      3\n",
       " 4.317488      3\n",
       " 4.248495      3\n",
       " 3.332205      3\n",
       " 3.960813      3\n",
       " 4.412798      2\n",
       " 4.442651      2\n",
       " 4.605170      1\n",
       " 2.862201      1\n",
       " 2.890372      1\n",
       "Name: logZn, dtype: int64"
      ]
     },
     "execution_count": 10,
     "metadata": {},
     "output_type": "execute_result"
    }
   ],
   "source": [
    "log_data['logZn'].value_counts()"
   ]
  },
  {
   "cell_type": "code",
   "execution_count": 15,
   "metadata": {},
   "outputs": [
    {
     "data": {
      "image/png": "[encoded data removed]",
      "text/plain": [
       "<Figure size 1152x864 with 9 Axes>"
      ]
     },
     "metadata": {
      "needs_background": "light"
     },
     "output_type": "display_data"
    }
   ],
   "source": [
    "log_data.iloc[:,:-1].hist(figsize=(16,12));"
   ]
  },
  {
   "cell_type": "markdown",
   "metadata": {},
   "source": [
    "Age, B, and Lstat did not improve\n",
    "Crim, Dis, Indus, and Ptratio all improved, some drastically\n",
    "ZN couldn't be histogrammed because doing the log made the 0's into -Inf values which threw an error upon plotting"
   ]
  },
  {
   "cell_type": "markdown",
   "metadata": {},
   "source": [
    "\"ZN\" has a lot of zeros (more than 50%!). Remember that this variable denoted: \"proportion of residential land zoned for lots over 25,000 sq.ft.\". It might have made sense to categorize this variable to \"over 25,000 feet or not (binary variable 1/0). Now you have a zero-inflated variable which is cumbersome to work with."
   ]
  },
  {
   "cell_type": "markdown",
   "metadata": {},
   "source": [
    "## Try different types of transformations on the continuous variables"
   ]
  },
  {
   "cell_type": "markdown",
   "metadata": {},
   "source": [
    "Store your final features in a dataframe `features_final`"
   ]
  },
  {
   "cell_type": "code",
   "execution_count": 16,
   "metadata": {},
   "outputs": [
    {
     "data": {
      "text/html": [
       "<div>\n",
       "<style scoped>\n",
       "    .dataframe tbody tr th:only-of-type {\n",
       "        vertical-align: middle;\n",
       "    }\n",
       "\n",
       "    .dataframe tbody tr th {\n",
       "        vertical-align: top;\n",
       "    }\n",
       "\n",
       "    .dataframe thead th {\n",
       "        text-align: right;\n",
       "    }\n",
       "</style>\n",
       "<table border=\"1\" class=\"dataframe\">\n",
       "  <thead>\n",
       "    <tr style=\"text-align: right;\">\n",
       "      <th></th>\n",
       "      <th>logAge</th>\n",
       "      <th>logB</th>\n",
       "      <th>logCrim</th>\n",
       "      <th>logDis</th>\n",
       "      <th>logIndus</th>\n",
       "      <th>logLstat</th>\n",
       "      <th>logPtratio</th>\n",
       "      <th>logZn</th>\n",
       "    </tr>\n",
       "  </thead>\n",
       "  <tbody>\n",
       "    <tr>\n",
       "      <th>0</th>\n",
       "      <td>4.177459</td>\n",
       "      <td>5.983684</td>\n",
       "      <td>-5.064036</td>\n",
       "      <td>1.408545</td>\n",
       "      <td>0.837248</td>\n",
       "      <td>1.605430</td>\n",
       "      <td>2.727853</td>\n",
       "      <td>2.890372</td>\n",
       "    </tr>\n",
       "    <tr>\n",
       "      <th>1</th>\n",
       "      <td>4.368181</td>\n",
       "      <td>5.983684</td>\n",
       "      <td>-3.600502</td>\n",
       "      <td>1.602836</td>\n",
       "      <td>1.955860</td>\n",
       "      <td>2.212660</td>\n",
       "      <td>2.879198</td>\n",
       "      <td>-inf</td>\n",
       "    </tr>\n",
       "    <tr>\n",
       "      <th>2</th>\n",
       "      <td>4.112512</td>\n",
       "      <td>5.973377</td>\n",
       "      <td>-3.601235</td>\n",
       "      <td>1.602836</td>\n",
       "      <td>1.955860</td>\n",
       "      <td>1.393766</td>\n",
       "      <td>2.879198</td>\n",
       "      <td>-inf</td>\n",
       "    </tr>\n",
       "    <tr>\n",
       "      <th>3</th>\n",
       "      <td>3.824284</td>\n",
       "      <td>5.977949</td>\n",
       "      <td>-3.430523</td>\n",
       "      <td>1.802073</td>\n",
       "      <td>0.779325</td>\n",
       "      <td>1.078410</td>\n",
       "      <td>2.928524</td>\n",
       "      <td>-inf</td>\n",
       "    </tr>\n",
       "    <tr>\n",
       "      <th>4</th>\n",
       "      <td>3.992681</td>\n",
       "      <td>5.983684</td>\n",
       "      <td>-2.672924</td>\n",
       "      <td>1.802073</td>\n",
       "      <td>0.779325</td>\n",
       "      <td>1.673351</td>\n",
       "      <td>2.928524</td>\n",
       "      <td>-inf</td>\n",
       "    </tr>\n",
       "  </tbody>\n",
       "</table>\n",
       "</div>"
      ],
      "text/plain": [
       "     logAge      logB   logCrim    logDis  logIndus  logLstat  logPtratio  \\\n",
       "0  4.177459  5.983684 -5.064036  1.408545  0.837248  1.605430    2.727853   \n",
       "1  4.368181  5.983684 -3.600502  1.602836  1.955860  2.212660    2.879198   \n",
       "2  4.112512  5.973377 -3.601235  1.602836  1.955860  1.393766    2.879198   \n",
       "3  3.824284  5.977949 -3.430523  1.802073  0.779325  1.078410    2.928524   \n",
       "4  3.992681  5.983684 -2.672924  1.802073  0.779325  1.673351    2.928524   \n",
       "\n",
       "      logZn  \n",
       "0  2.890372  \n",
       "1      -inf  \n",
       "2      -inf  \n",
       "3      -inf  \n",
       "4      -inf  "
      ]
     },
     "execution_count": 16,
     "metadata": {},
     "output_type": "execute_result"
    }
   ],
   "source": [
    "log_data.head()"
   ]
  },
  {
   "cell_type": "code",
   "execution_count": 17,
   "metadata": {},
   "outputs": [],
   "source": [
    "logAge = log_data['logAge']\n",
    "logB = log_data['logB']\n",
    "logCrim = log_data['logCrim']\n",
    "logDis = log_data['logDis']\n",
    "logIndus = log_data['logIndus']\n",
    "logLstat = log_data['logLstat']\n",
    "logPt = log_data['logPtratio']\n",
    "rm = boston_features['RM']"
   ]
  },
  {
   "cell_type": "code",
   "execution_count": 18,
   "metadata": {},
   "outputs": [],
   "source": [
    "from sklearn import preprocessing"
   ]
  },
  {
   "cell_type": "code",
   "execution_count": 22,
   "metadata": {
    "scrolled": true
   },
   "outputs": [
    {
     "data": {
      "image/png": "[encoded data removed]",
      "text/plain": [
       "<Figure size 432x288 with 4 Axes>"
      ]
     },
     "metadata": {
      "needs_background": "light"
     },
     "output_type": "display_data"
    }
   ],
   "source": [
    "std_scale = preprocessing.StandardScaler().fit(log_data[['logAge', 'logDis', 'logPtratio']])\n",
    "df_std = std_scale.transform(log_data[['logAge', 'logDis', 'logPtratio']])\n",
    "pd.DataFrame(df_std).hist();"
   ]
  },
  {
   "cell_type": "code",
   "execution_count": 23,
   "metadata": {},
   "outputs": [
    {
     "data": {
      "image/png": "[encoded data removed]",
      "text/plain": [
       "<Figure size 432x288 with 4 Axes>"
      ]
     },
     "metadata": {
      "needs_background": "light"
     },
     "output_type": "display_data"
    }
   ],
   "source": [
    "minmax_scale = preprocessing.MinMaxScaler().fit(log_data[['logB', 'logIndus', 'logPtratio']])\n",
    "df_minmax = minmax_scale.transform(log_data[['logB', 'logIndus', 'logPtratio']])\n",
    "pd.DataFrame(df_minmax).hist();"
   ]
  },
  {
   "cell_type": "code",
   "execution_count": 25,
   "metadata": {
    "scrolled": true
   },
   "outputs": [
    {
     "data": {
      "image/png": "[encoded data removed]",
      "text/plain": [
       "<Figure size 432x288 with 2 Axes>"
      ]
     },
     "metadata": {
      "needs_background": "light"
     },
     "output_type": "display_data"
    }
   ],
   "source": [
    "norm_scale = preprocessing.Normalizer().fit(log_data[['logCrim', 'logLstat']])\n",
    "df_norm = norm_scale.transform(log_data[['logCrim', 'logLstat']])\n",
    "pd.DataFrame(df_norm).hist();"
   ]
  },
  {
   "cell_type": "code",
   "execution_count": 30,
   "metadata": {},
   "outputs": [
    {
     "data": {
      "text/html": [
       "<div>\n",
       "<style scoped>\n",
       "    .dataframe tbody tr th:only-of-type {\n",
       "        vertical-align: middle;\n",
       "    }\n",
       "\n",
       "    .dataframe tbody tr th {\n",
       "        vertical-align: top;\n",
       "    }\n",
       "\n",
       "    .dataframe thead th {\n",
       "        text-align: right;\n",
       "    }\n",
       "</style>\n",
       "<table border=\"1\" class=\"dataframe\">\n",
       "  <thead>\n",
       "    <tr style=\"text-align: right;\">\n",
       "      <th></th>\n",
       "      <th>log_std_Age</th>\n",
       "      <th>log_std_Dis</th>\n",
       "      <th>log_std_Ptratio</th>\n",
       "    </tr>\n",
       "  </thead>\n",
       "  <tbody>\n",
       "    <tr>\n",
       "      <th>0</th>\n",
       "      <td>0.142028</td>\n",
       "      <td>0.409104</td>\n",
       "      <td>-1.443977</td>\n",
       "    </tr>\n",
       "    <tr>\n",
       "      <th>1</th>\n",
       "      <td>0.454617</td>\n",
       "      <td>0.769562</td>\n",
       "      <td>-0.230278</td>\n",
       "    </tr>\n",
       "    <tr>\n",
       "      <th>2</th>\n",
       "      <td>0.035581</td>\n",
       "      <td>0.769562</td>\n",
       "      <td>-0.230278</td>\n",
       "    </tr>\n",
       "    <tr>\n",
       "      <th>3</th>\n",
       "      <td>-0.436818</td>\n",
       "      <td>1.139194</td>\n",
       "      <td>0.165279</td>\n",
       "    </tr>\n",
       "    <tr>\n",
       "      <th>4</th>\n",
       "      <td>-0.160820</td>\n",
       "      <td>1.139194</td>\n",
       "      <td>0.165279</td>\n",
       "    </tr>\n",
       "  </tbody>\n",
       "</table>\n",
       "</div>"
      ],
      "text/plain": [
       "   log_std_Age  log_std_Dis  log_std_Ptratio\n",
       "0     0.142028     0.409104        -1.443977\n",
       "1     0.454617     0.769562        -0.230278\n",
       "2     0.035581     0.769562        -0.230278\n",
       "3    -0.436818     1.139194         0.165279\n",
       "4    -0.160820     1.139194         0.165279"
      ]
     },
     "execution_count": 30,
     "metadata": {},
     "output_type": "execute_result"
    }
   ],
   "source": [
    "df_std = pd.DataFrame(df_std)\n",
    "df_std.columns = ['log_std_Age', 'log_std_Dis', 'log_std_Ptratio']\n",
    "df_std.head()"
   ]
  },
  {
   "cell_type": "code",
   "execution_count": 31,
   "metadata": {},
   "outputs": [
    {
     "data": {
      "text/html": [
       "<div>\n",
       "<style scoped>\n",
       "    .dataframe tbody tr th:only-of-type {\n",
       "        vertical-align: middle;\n",
       "    }\n",
       "\n",
       "    .dataframe tbody tr th {\n",
       "        vertical-align: top;\n",
       "    }\n",
       "\n",
       "    .dataframe thead th {\n",
       "        text-align: right;\n",
       "    }\n",
       "</style>\n",
       "<table border=\"1\" class=\"dataframe\">\n",
       "  <thead>\n",
       "    <tr style=\"text-align: right;\">\n",
       "      <th></th>\n",
       "      <th>log_mm_B</th>\n",
       "      <th>log_mm_Dis</th>\n",
       "      <th>log_mm_Ptratio</th>\n",
       "    </tr>\n",
       "  </thead>\n",
       "  <tbody>\n",
       "    <tr>\n",
       "      <th>0</th>\n",
       "      <td>1.000000</td>\n",
       "      <td>0.393661</td>\n",
       "      <td>0.348358</td>\n",
       "    </tr>\n",
       "    <tr>\n",
       "      <th>1</th>\n",
       "      <td>1.000000</td>\n",
       "      <td>0.666533</td>\n",
       "      <td>0.619906</td>\n",
       "    </tr>\n",
       "    <tr>\n",
       "      <th>2</th>\n",
       "      <td>0.998553</td>\n",
       "      <td>0.666533</td>\n",
       "      <td>0.619906</td>\n",
       "    </tr>\n",
       "    <tr>\n",
       "      <th>3</th>\n",
       "      <td>0.999195</td>\n",
       "      <td>0.379532</td>\n",
       "      <td>0.708405</td>\n",
       "    </tr>\n",
       "    <tr>\n",
       "      <th>4</th>\n",
       "      <td>1.000000</td>\n",
       "      <td>0.379532</td>\n",
       "      <td>0.708405</td>\n",
       "    </tr>\n",
       "  </tbody>\n",
       "</table>\n",
       "</div>"
      ],
      "text/plain": [
       "   log_mm_B  log_mm_Dis  log_mm_Ptratio\n",
       "0  1.000000    0.393661        0.348358\n",
       "1  1.000000    0.666533        0.619906\n",
       "2  0.998553    0.666533        0.619906\n",
       "3  0.999195    0.379532        0.708405\n",
       "4  1.000000    0.379532        0.708405"
      ]
     },
     "execution_count": 31,
     "metadata": {},
     "output_type": "execute_result"
    }
   ],
   "source": [
    "df_minmax = pd.DataFrame(df_minmax)\n",
    "df_minmax.columns = ['log_mm_B', 'log_mm_Dis', 'log_mm_Ptratio']\n",
    "df_minmax.head()"
   ]
  },
  {
   "cell_type": "code",
   "execution_count": 32,
   "metadata": {},
   "outputs": [
    {
     "data": {
      "text/html": [
       "<div>\n",
       "<style scoped>\n",
       "    .dataframe tbody tr th:only-of-type {\n",
       "        vertical-align: middle;\n",
       "    }\n",
       "\n",
       "    .dataframe tbody tr th {\n",
       "        vertical-align: top;\n",
       "    }\n",
       "\n",
       "    .dataframe thead th {\n",
       "        text-align: right;\n",
       "    }\n",
       "</style>\n",
       "<table border=\"1\" class=\"dataframe\">\n",
       "  <thead>\n",
       "    <tr style=\"text-align: right;\">\n",
       "      <th></th>\n",
       "      <th>log_norm_Crim</th>\n",
       "      <th>log_norm_Lstat</th>\n",
       "    </tr>\n",
       "  </thead>\n",
       "  <tbody>\n",
       "    <tr>\n",
       "      <th>0</th>\n",
       "      <td>-0.953244</td>\n",
       "      <td>0.302203</td>\n",
       "    </tr>\n",
       "    <tr>\n",
       "      <th>1</th>\n",
       "      <td>-0.851979</td>\n",
       "      <td>0.523577</td>\n",
       "    </tr>\n",
       "    <tr>\n",
       "      <th>2</th>\n",
       "      <td>-0.932591</td>\n",
       "      <td>0.360936</td>\n",
       "    </tr>\n",
       "    <tr>\n",
       "      <th>3</th>\n",
       "      <td>-0.953974</td>\n",
       "      <td>0.299889</td>\n",
       "    </tr>\n",
       "    <tr>\n",
       "      <th>4</th>\n",
       "      <td>-0.847603</td>\n",
       "      <td>0.530631</td>\n",
       "    </tr>\n",
       "  </tbody>\n",
       "</table>\n",
       "</div>"
      ],
      "text/plain": [
       "   log_norm_Crim  log_norm_Lstat\n",
       "0      -0.953244        0.302203\n",
       "1      -0.851979        0.523577\n",
       "2      -0.932591        0.360936\n",
       "3      -0.953974        0.299889\n",
       "4      -0.847603        0.530631"
      ]
     },
     "execution_count": 32,
     "metadata": {},
     "output_type": "execute_result"
    }
   ],
   "source": [
    "df_norm = pd.DataFrame(df_norm)\n",
    "df_norm.columns = ['log_norm_Crim', 'log_norm_Lstat']\n",
    "df_norm.head()"
   ]
  },
  {
   "cell_type": "code",
   "execution_count": 34,
   "metadata": {},
   "outputs": [
    {
     "data": {
      "text/html": [
       "<div>\n",
       "<style scoped>\n",
       "    .dataframe tbody tr th:only-of-type {\n",
       "        vertical-align: middle;\n",
       "    }\n",
       "\n",
       "    .dataframe tbody tr th {\n",
       "        vertical-align: top;\n",
       "    }\n",
       "\n",
       "    .dataframe thead th {\n",
       "        text-align: right;\n",
       "    }\n",
       "</style>\n",
       "<table border=\"1\" class=\"dataframe\">\n",
       "  <thead>\n",
       "    <tr style=\"text-align: right;\">\n",
       "      <th></th>\n",
       "      <th>log_std_Age</th>\n",
       "      <th>log_std_Dis</th>\n",
       "      <th>log_std_Ptratio</th>\n",
       "      <th>log_mm_B</th>\n",
       "      <th>log_mm_Dis</th>\n",
       "      <th>log_mm_Ptratio</th>\n",
       "      <th>log_norm_Crim</th>\n",
       "      <th>log_norm_Lstat</th>\n",
       "    </tr>\n",
       "  </thead>\n",
       "  <tbody>\n",
       "    <tr>\n",
       "      <th>0</th>\n",
       "      <td>0.142028</td>\n",
       "      <td>0.409104</td>\n",
       "      <td>-1.443977</td>\n",
       "      <td>1.000000</td>\n",
       "      <td>0.393661</td>\n",
       "      <td>0.348358</td>\n",
       "      <td>-0.953244</td>\n",
       "      <td>0.302203</td>\n",
       "    </tr>\n",
       "    <tr>\n",
       "      <th>1</th>\n",
       "      <td>0.454617</td>\n",
       "      <td>0.769562</td>\n",
       "      <td>-0.230278</td>\n",
       "      <td>1.000000</td>\n",
       "      <td>0.666533</td>\n",
       "      <td>0.619906</td>\n",
       "      <td>-0.851979</td>\n",
       "      <td>0.523577</td>\n",
       "    </tr>\n",
       "    <tr>\n",
       "      <th>2</th>\n",
       "      <td>0.035581</td>\n",
       "      <td>0.769562</td>\n",
       "      <td>-0.230278</td>\n",
       "      <td>0.998553</td>\n",
       "      <td>0.666533</td>\n",
       "      <td>0.619906</td>\n",
       "      <td>-0.932591</td>\n",
       "      <td>0.360936</td>\n",
       "    </tr>\n",
       "    <tr>\n",
       "      <th>3</th>\n",
       "      <td>-0.436818</td>\n",
       "      <td>1.139194</td>\n",
       "      <td>0.165279</td>\n",
       "      <td>0.999195</td>\n",
       "      <td>0.379532</td>\n",
       "      <td>0.708405</td>\n",
       "      <td>-0.953974</td>\n",
       "      <td>0.299889</td>\n",
       "    </tr>\n",
       "    <tr>\n",
       "      <th>4</th>\n",
       "      <td>-0.160820</td>\n",
       "      <td>1.139194</td>\n",
       "      <td>0.165279</td>\n",
       "      <td>1.000000</td>\n",
       "      <td>0.379532</td>\n",
       "      <td>0.708405</td>\n",
       "      <td>-0.847603</td>\n",
       "      <td>0.530631</td>\n",
       "    </tr>\n",
       "  </tbody>\n",
       "</table>\n",
       "</div>"
      ],
      "text/plain": [
       "   log_std_Age  log_std_Dis  log_std_Ptratio  log_mm_B  log_mm_Dis  \\\n",
       "0     0.142028     0.409104        -1.443977  1.000000    0.393661   \n",
       "1     0.454617     0.769562        -0.230278  1.000000    0.666533   \n",
       "2     0.035581     0.769562        -0.230278  0.998553    0.666533   \n",
       "3    -0.436818     1.139194         0.165279  0.999195    0.379532   \n",
       "4    -0.160820     1.139194         0.165279  1.000000    0.379532   \n",
       "\n",
       "   log_mm_Ptratio  log_norm_Crim  log_norm_Lstat  \n",
       "0        0.348358      -0.953244        0.302203  \n",
       "1        0.619906      -0.851979        0.523577  \n",
       "2        0.619906      -0.932591        0.360936  \n",
       "3        0.708405      -0.953974        0.299889  \n",
       "4        0.708405      -0.847603        0.530631  "
      ]
     },
     "execution_count": 34,
     "metadata": {},
     "output_type": "execute_result"
    }
   ],
   "source": [
    "features_final = pd.DataFrame([])\n",
    "features_final = pd.concat([features_final, df_std, df_minmax, df_norm], axis=1)\n",
    "features_final.head()"
   ]
  },
  {
   "cell_type": "code",
   "execution_count": 35,
   "metadata": {},
   "outputs": [],
   "source": [
    "scaled_rm = (rm-np.mean(rm))/(max(rm)-min(rm))\n",
    "features_final['mn_Rm'] = scaled_rm"
   ]
  },
  {
   "cell_type": "code",
   "execution_count": 36,
   "metadata": {},
   "outputs": [
    {
     "data": {
      "text/html": [
       "<div>\n",
       "<style scoped>\n",
       "    .dataframe tbody tr th:only-of-type {\n",
       "        vertical-align: middle;\n",
       "    }\n",
       "\n",
       "    .dataframe tbody tr th {\n",
       "        vertical-align: top;\n",
       "    }\n",
       "\n",
       "    .dataframe thead th {\n",
       "        text-align: right;\n",
       "    }\n",
       "</style>\n",
       "<table border=\"1\" class=\"dataframe\">\n",
       "  <thead>\n",
       "    <tr style=\"text-align: right;\">\n",
       "      <th></th>\n",
       "      <th>log_std_Age</th>\n",
       "      <th>log_std_Dis</th>\n",
       "      <th>log_std_Ptratio</th>\n",
       "      <th>log_mm_B</th>\n",
       "      <th>log_mm_Dis</th>\n",
       "      <th>log_mm_Ptratio</th>\n",
       "      <th>log_norm_Crim</th>\n",
       "      <th>log_norm_Lstat</th>\n",
       "      <th>mn_Rm</th>\n",
       "    </tr>\n",
       "  </thead>\n",
       "  <tbody>\n",
       "    <tr>\n",
       "      <th>0</th>\n",
       "      <td>0.142028</td>\n",
       "      <td>0.409104</td>\n",
       "      <td>-1.443977</td>\n",
       "      <td>1.000000</td>\n",
       "      <td>0.393661</td>\n",
       "      <td>0.348358</td>\n",
       "      <td>-0.953244</td>\n",
       "      <td>0.302203</td>\n",
       "      <td>0.055636</td>\n",
       "    </tr>\n",
       "    <tr>\n",
       "      <th>1</th>\n",
       "      <td>0.454617</td>\n",
       "      <td>0.769562</td>\n",
       "      <td>-0.230278</td>\n",
       "      <td>1.000000</td>\n",
       "      <td>0.666533</td>\n",
       "      <td>0.619906</td>\n",
       "      <td>-0.851979</td>\n",
       "      <td>0.523577</td>\n",
       "      <td>0.026129</td>\n",
       "    </tr>\n",
       "    <tr>\n",
       "      <th>2</th>\n",
       "      <td>0.035581</td>\n",
       "      <td>0.769562</td>\n",
       "      <td>-0.230278</td>\n",
       "      <td>0.998553</td>\n",
       "      <td>0.666533</td>\n",
       "      <td>0.619906</td>\n",
       "      <td>-0.932591</td>\n",
       "      <td>0.360936</td>\n",
       "      <td>0.172517</td>\n",
       "    </tr>\n",
       "    <tr>\n",
       "      <th>3</th>\n",
       "      <td>-0.436818</td>\n",
       "      <td>1.139194</td>\n",
       "      <td>0.165279</td>\n",
       "      <td>0.999195</td>\n",
       "      <td>0.379532</td>\n",
       "      <td>0.708405</td>\n",
       "      <td>-0.953974</td>\n",
       "      <td>0.299889</td>\n",
       "      <td>0.136686</td>\n",
       "    </tr>\n",
       "    <tr>\n",
       "      <th>4</th>\n",
       "      <td>-0.160820</td>\n",
       "      <td>1.139194</td>\n",
       "      <td>0.165279</td>\n",
       "      <td>1.000000</td>\n",
       "      <td>0.379532</td>\n",
       "      <td>0.708405</td>\n",
       "      <td>-0.847603</td>\n",
       "      <td>0.530631</td>\n",
       "      <td>0.165236</td>\n",
       "    </tr>\n",
       "  </tbody>\n",
       "</table>\n",
       "</div>"
      ],
      "text/plain": [
       "   log_std_Age  log_std_Dis  log_std_Ptratio  log_mm_B  log_mm_Dis  \\\n",
       "0     0.142028     0.409104        -1.443977  1.000000    0.393661   \n",
       "1     0.454617     0.769562        -0.230278  1.000000    0.666533   \n",
       "2     0.035581     0.769562        -0.230278  0.998553    0.666533   \n",
       "3    -0.436818     1.139194         0.165279  0.999195    0.379532   \n",
       "4    -0.160820     1.139194         0.165279  1.000000    0.379532   \n",
       "\n",
       "   log_mm_Ptratio  log_norm_Crim  log_norm_Lstat     mn_Rm  \n",
       "0        0.348358      -0.953244        0.302203  0.055636  \n",
       "1        0.619906      -0.851979        0.523577  0.026129  \n",
       "2        0.619906      -0.932591        0.360936  0.172517  \n",
       "3        0.708405      -0.953974        0.299889  0.136686  \n",
       "4        0.708405      -0.847603        0.530631  0.165236  "
      ]
     },
     "execution_count": 36,
     "metadata": {},
     "output_type": "execute_result"
    }
   ],
   "source": [
    "features_final.head()"
   ]
  },
  {
   "cell_type": "markdown",
   "metadata": {},
   "source": [
    "## Summary\n",
    "Great! You've now transformed your final data using feature scaling and normalization, and stored them in the `features_final` dataframe."
   ]
  }
 ],
 "metadata": {
  "kernelspec": {
   "display_name": "Python 3",
   "language": "python",
   "name": "python3"
  },
  "language_info": {
   "codemirror_mode": {
    "name": "ipython",
    "version": 3
   },
   "file_extension": ".py",
   "mimetype": "text/x-python",
   "name": "python",
   "nbconvert_exporter": "python",
   "pygments_lexer": "ipython3",
   "version": "3.6.6"
  }
 },
 "nbformat": 4,
 "nbformat_minor": 2
}
